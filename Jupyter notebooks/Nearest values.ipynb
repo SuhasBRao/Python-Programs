{
 "cells": [
  {
   "cell_type": "markdown",
   "metadata": {},
   "source": [
    "### Python program to  find the nearest value to the given one.\n",
    "\n",
    "You are given a list of values as set form and a value for which you need to find the nearest one.\n",
    "\n",
    "For example, we have the following set of numbers: 4, 7, 10, 11, 12, 17, and we need to find the nearest value to the number 9. If we sort this set in the ascending order, then to the left of number 9 will be number 7 and to the right - will be number 10. But 10 is closer than 7, which means that the correct answer is 10.\n",
    "\n",
    "A few clarifications:\n",
    "\n",
    "    If 2 numbers are at the same distance, you need to choose the smallest one;\n",
    "    The set of numbers is always non-empty, i.e. the size is >=1;\n",
    "    The given value can be in this set, which means that it’s the answer;\n",
    "    The set can contain both positive and negative numbers, but they are always integers;\n",
    "    The set isn’t sorted and consists of unique numbers.\n"
   ]
  },
  {
   "cell_type": "code",
   "execution_count": 6,
   "metadata": {},
   "outputs": [],
   "source": [
    "def nearest_value(mylist,num):\n",
    "    mylist = list(mylist)\n",
    "    mylist.append(num)\n",
    "    mylist.sort()\n",
    "    index = mylist.index(num)\n",
    "   \n",
    "    try:#This checks if the nxt element is present or not if not executes the except block written below\n",
    "        prev = abs(num - mylist[index - 1])\n",
    "        nxt = abs(num - mylist[index+1])\n",
    "        if prev <= nxt:\n",
    "            return mylist[index - 1]\n",
    "        else:\n",
    "            return mylist[index + 1]\n",
    "        if num in mylist:\n",
    "            return num\n",
    "    except:\n",
    "        return mylist[-2]\n",
    "\n"
   ]
  },
  {
   "cell_type": "code",
   "execution_count": 7,
   "metadata": {},
   "outputs": [
    {
     "data": {
      "text/plain": [
       "9"
      ]
     },
     "execution_count": 7,
     "metadata": {},
     "output_type": "execute_result"
    }
   ],
   "source": [
    "nearest_value({1,2,17,29,9},8)"
   ]
  }
 ],
 "metadata": {
  "kernelspec": {
   "display_name": "Python 3",
   "language": "python",
   "name": "python3"
  },
  "language_info": {
   "codemirror_mode": {
    "name": "ipython",
    "version": 3
   },
   "file_extension": ".py",
   "mimetype": "text/x-python",
   "name": "python",
   "nbconvert_exporter": "python",
   "pygments_lexer": "ipython3",
   "version": "3.7.6"
  }
 },
 "nbformat": 4,
 "nbformat_minor": 4
}
