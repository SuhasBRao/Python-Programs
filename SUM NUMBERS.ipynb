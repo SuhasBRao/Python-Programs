{
 "cells": [
  {
   "cell_type": "markdown",
   "metadata": {},
   "source": [
    "## SUM NUMBERS\n",
    " In a given text you need to sum the numbers. Only separated numbers should be counted. If a number is part of a word it shouldn't be counted.\n",
    "\n",
    "The text consists from numbers, spaces and english letters\n",
    "\n",
    "Input: A string.\n",
    "\n",
    "Output: An int.\n",
    "\n",
    "Example:\n",
    "sum_numbers('hi') == 0\n",
    "sum_numbers('who is 1st here') == 0\n",
    "sum_numbers('my numbers is 2') == 2\n",
    "sum_numbers('This picture is an oil on canvas '\n",
    " 'painting by Danish artist Anna '\n",
    " 'Petersen between 1845 and 1910 year') == 3755\n",
    "sum_numbers('5 plus 6 is') == 11\n",
    "sum_numbers('') == 0"
   ]
  },
  {
   "cell_type": "code",
   "execution_count": 2,
   "metadata": {},
   "outputs": [],
   "source": [
    "def sum_numbers(text: str) -> int:\n",
    "    # your code here\n",
    "    result = 0\n",
    "    split_text = text.split()\n",
    "    for letter in split_text:\n",
    "        if letter.isdigit():\n",
    "            result += int(letter)\n",
    "    return result"
   ]
  },
  {
   "cell_type": "code",
   "execution_count": 4,
   "metadata": {},
   "outputs": [
    {
     "data": {
      "text/plain": [
       "0"
      ]
     },
     "execution_count": 4,
     "metadata": {},
     "output_type": "execute_result"
    }
   ],
   "source": [
    "sum_numbers('hi')"
   ]
  },
  {
   "cell_type": "code",
   "execution_count": 6,
   "metadata": {},
   "outputs": [
    {
     "data": {
      "text/plain": [
       "3755"
      ]
     },
     "execution_count": 6,
     "metadata": {},
     "output_type": "execute_result"
    }
   ],
   "source": [
    "sum_numbers('This picture is an oil on canvas '\n",
    " 'painting by Danish artist Anna '\n",
    " 'Petersen between 1845 and 1910 year') "
   ]
  }
 ],
 "metadata": {
  "kernelspec": {
   "display_name": "Python 3",
   "language": "python",
   "name": "python3"
  },
  "language_info": {
   "codemirror_mode": {
    "name": "ipython",
    "version": 3
   },
   "file_extension": ".py",
   "mimetype": "text/x-python",
   "name": "python",
   "nbconvert_exporter": "python",
   "pygments_lexer": "ipython3",
   "version": "3.7.6"
  }
 },
 "nbformat": 4,
 "nbformat_minor": 4
}
