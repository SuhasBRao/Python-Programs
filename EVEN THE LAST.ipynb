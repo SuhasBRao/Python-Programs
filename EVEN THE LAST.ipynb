{
 "cells": [
  {
   "cell_type": "markdown",
   "metadata": {},
   "source": [
    "## EVEN THE LAST\n",
    "You are given an array of integers. You should find the sum of the integers with even indexes (0th, 2nd, 4th...). Then multiply this summed number and the final element of the array together. Don't forget that the first element has an index of 0.\n",
    "\n",
    "For an empty array, the result will always be 0 (zero).\n",
    "\n",
    "Input: A list of integers.\n",
    "\n",
    "Output: The number as an integer.\n",
    "\n",
    "Example:\n",
    "checkio([0, 1, 2, 3, 4, 5]) == 30\n",
    "\n",
    "checkio([1, 3, 5]) == 30\n",
    "\n",
    "checkio([6]) == 36\n",
    "\n",
    "checkio([]) == 0"
   ]
  },
  {
   "cell_type": "code",
   "execution_count": null,
   "metadata": {},
   "outputs": [],
   "source": []
  }
 ],
 "metadata": {
  "kernelspec": {
   "display_name": "Python 3",
   "language": "python",
   "name": "python3"
  },
  "language_info": {
   "codemirror_mode": {
    "name": "ipython",
    "version": 3
   },
   "file_extension": ".py",
   "mimetype": "text/x-python",
   "name": "python",
   "nbconvert_exporter": "python",
   "pygments_lexer": "ipython3",
   "version": "3.7.6"
  }
 },
 "nbformat": 4,
 "nbformat_minor": 4
}
